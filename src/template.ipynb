{
 "cells": [
  {
   "cell_type": "code",
   "execution_count": 1,
   "id": "5d9efed3-06b9-47b2-a029-fc6e3b27a0f5",
   "metadata": {},
   "outputs": [
    {
     "name": "stdout",
     "output_type": "stream",
     "text": [
      "USER KEY: O7UzfGzY1yth09uiMc4uqjYqZYOR5IRQAnMagQaHDvs1d52vxtmMiMGX8Zy5MCoLCopy\n",
      "SECRET KEY: 7cBJXD2xsjnkEeRBtiRVidKySiSTyBxNon0jFnQGAOmmguDSnzESm0erF3b49ppK\n"
     ]
    }
   ],
   "source": [
    "from binance.client import Client\n",
    "from dotenv import load_dotenv\n",
    "import os\n",
    "import pandas as pd\n",
    "import talib\n",
    "import datetime\n",
    "\n",
    "\n",
    "# dotenvからキーを取得\n",
    "load_dotenv(verbose=True)\n",
    "\n",
    "user_key = os.environ.get(\"APIKEY\")\n",
    "secret_key = os.environ.get(\"APISECRET\")\n",
    "print(\"USER KEY:\", user_key)\n",
    "print(\"SECRET KEY:\", secret_key)"
   ]
  },
  {
   "cell_type": "code",
   "execution_count": 2,
   "id": "f6cffde0-b80e-41ed-a2c8-996fd9031b54",
   "metadata": {},
   "outputs": [],
   "source": [
    "# client\n",
    "binance_client = Client(user_key, secret_key)"
   ]
  },
  {
   "cell_type": "code",
   "execution_count": 3,
   "id": "4df861b7-9c1e-4eec-b6ec-0cdfcf68e8b2",
   "metadata": {},
   "outputs": [],
   "source": [
    "\n",
    "def getData(client):\n",
    "    time= datetime.datetime.now().strftime(\"%Y-%m-%d %H:%M:%S\")\n",
    "    time_ago=datetime.datetime.now()- datetime.timedelta(days=1)\n",
    "    time_ago = time_ago.strftime(\"%Y-%m-%d %H:%M:%S\")\n",
    "    df = pd.DataFrame(client.futures_historical_klines(\n",
    "        symbol='BTCUSDT',\n",
    "        interval='1m',\n",
    "        start_str=str(time_ago),\n",
    "        end_str=str(time)\n",
    "    ))\n",
    "\n",
    "    # crop unnecessary columns\n",
    "    df = df.iloc[:, :6] # all rows x 6colms\n",
    "\n",
    "    # ascribe names to columns\n",
    "    df.columns = ['Date', 'Open', 'High', 'Low', 'Close', 'Volume']\n",
    "\n",
    "    # convert timestamp to date format and ensure ohlcv are all numeric\n",
    "    df['Date'] = pd.to_datetime(df['Date'], unit='ms')\n",
    "    df.iloc[:, 1:] = df.iloc[:, 1:].apply(lambda x: pd.to_numeric(x))\n",
    "    df = df.set_index('Date')\n",
    "    return df"
   ]
  },
  {
   "cell_type": "code",
   "execution_count": 4,
   "id": "9c58a396-6abb-4db7-b556-d7cb853871c5",
   "metadata": {},
   "outputs": [],
   "source": [
    "df = getData(binance_client)"
   ]
  },
  {
   "cell_type": "code",
   "execution_count": 5,
   "id": "718d86ca-4f5e-45bb-9746-56b39b6cd4ac",
   "metadata": {},
   "outputs": [
    {
     "data": {
      "text/html": [
       "<div>\n",
       "<style scoped>\n",
       "    .dataframe tbody tr th:only-of-type {\n",
       "        vertical-align: middle;\n",
       "    }\n",
       "\n",
       "    .dataframe tbody tr th {\n",
       "        vertical-align: top;\n",
       "    }\n",
       "\n",
       "    .dataframe thead th {\n",
       "        text-align: right;\n",
       "    }\n",
       "</style>\n",
       "<table border=\"1\" class=\"dataframe\">\n",
       "  <thead>\n",
       "    <tr style=\"text-align: right;\">\n",
       "      <th></th>\n",
       "      <th>Open</th>\n",
       "      <th>High</th>\n",
       "      <th>Low</th>\n",
       "      <th>Close</th>\n",
       "      <th>Volume</th>\n",
       "    </tr>\n",
       "    <tr>\n",
       "      <th>Date</th>\n",
       "      <th></th>\n",
       "      <th></th>\n",
       "      <th></th>\n",
       "      <th></th>\n",
       "      <th></th>\n",
       "    </tr>\n",
       "  </thead>\n",
       "  <tbody>\n",
       "    <tr>\n",
       "      <th>2022-02-01 15:35:00</th>\n",
       "      <td>38379.01</td>\n",
       "      <td>38411.08</td>\n",
       "      <td>38353.00</td>\n",
       "      <td>38366.76</td>\n",
       "      <td>307.563</td>\n",
       "    </tr>\n",
       "    <tr>\n",
       "      <th>2022-02-01 15:36:00</th>\n",
       "      <td>38366.76</td>\n",
       "      <td>38389.99</td>\n",
       "      <td>38330.86</td>\n",
       "      <td>38367.93</td>\n",
       "      <td>356.255</td>\n",
       "    </tr>\n",
       "    <tr>\n",
       "      <th>2022-02-01 15:37:00</th>\n",
       "      <td>38367.93</td>\n",
       "      <td>38422.21</td>\n",
       "      <td>38367.92</td>\n",
       "      <td>38418.12</td>\n",
       "      <td>309.372</td>\n",
       "    </tr>\n",
       "    <tr>\n",
       "      <th>2022-02-01 15:38:00</th>\n",
       "      <td>38418.11</td>\n",
       "      <td>38429.87</td>\n",
       "      <td>38385.03</td>\n",
       "      <td>38421.04</td>\n",
       "      <td>154.052</td>\n",
       "    </tr>\n",
       "    <tr>\n",
       "      <th>2022-02-01 15:39:00</th>\n",
       "      <td>38421.04</td>\n",
       "      <td>38454.70</td>\n",
       "      <td>38350.00</td>\n",
       "      <td>38360.10</td>\n",
       "      <td>227.977</td>\n",
       "    </tr>\n",
       "  </tbody>\n",
       "</table>\n",
       "</div>"
      ],
      "text/plain": [
       "                         Open      High       Low     Close   Volume\n",
       "Date                                                                \n",
       "2022-02-01 15:35:00  38379.01  38411.08  38353.00  38366.76  307.563\n",
       "2022-02-01 15:36:00  38366.76  38389.99  38330.86  38367.93  356.255\n",
       "2022-02-01 15:37:00  38367.93  38422.21  38367.92  38418.12  309.372\n",
       "2022-02-01 15:38:00  38418.11  38429.87  38385.03  38421.04  154.052\n",
       "2022-02-01 15:39:00  38421.04  38454.70  38350.00  38360.10  227.977"
      ]
     },
     "execution_count": 5,
     "metadata": {},
     "output_type": "execute_result"
    }
   ],
   "source": [
    "df.head()"
   ]
  },
  {
   "cell_type": "code",
   "execution_count": null,
   "id": "a2d61d1d-2de7-49b8-8b2a-a1c4a66f95e6",
   "metadata": {},
   "outputs": [],
   "source": []
  }
 ],
 "metadata": {
  "kernelspec": {
   "display_name": "Python 3 (ipykernel)",
   "language": "python",
   "name": "python3"
  },
  "language_info": {
   "codemirror_mode": {
    "name": "ipython",
    "version": 3
   },
   "file_extension": ".py",
   "mimetype": "text/x-python",
   "name": "python",
   "nbconvert_exporter": "python",
   "pygments_lexer": "ipython3",
   "version": "3.9.9"
  }
 },
 "nbformat": 4,
 "nbformat_minor": 5
}
